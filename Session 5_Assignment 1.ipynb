{
 "cells": [
  {
   "cell_type": "code",
   "execution_count": 20,
   "metadata": {},
   "outputs": [
    {
     "name": "stdout",
     "output_type": "stream",
     "text": [
      "Enter first number . 5\n",
      "Enter second number . 0\n",
      "Divisible by 0 is not allowed\n",
      "None\n"
     ]
    }
   ],
   "source": [
    "#Write a function to compute 5/0 and use try/except to catch the exceptions.\n",
    "\n",
    "def funcDivide(num1,num2):\n",
    "    try:\n",
    "        val=0.0\n",
    "        val=num1/num2\n",
    "        return val\n",
    "    except:\n",
    "        print(\"Divisible by 0 is not allowed\")\n",
    "\n",
    "def callingFunc():\n",
    "    try:\n",
    "        returnVal=0.0\n",
    "        val1=int(input(\"Enter first number . \"))\n",
    "        val2=int(input(\"Enter second number . \"))\n",
    "        returnVal = funcDivide(val1,val2)\n",
    "        return returnVal\n",
    "    except:\n",
    "        print(\"Please enter integer value . \")\n",
    "        \n",
    "\n",
    "valDivide = callingFunc()\n",
    "print(valDivide)\n",
    "    \n",
    "        "
   ]
  },
  {
   "cell_type": "code",
   "execution_count": null,
   "metadata": {},
   "outputs": [],
   "source": []
  },
  {
   "cell_type": "code",
   "execution_count": null,
   "metadata": {},
   "outputs": [],
   "source": []
  }
 ],
 "metadata": {
  "kernelspec": {
   "display_name": "Python 3",
   "language": "python",
   "name": "python3"
  },
  "language_info": {
   "codemirror_mode": {
    "name": "ipython",
    "version": 3
   },
   "file_extension": ".py",
   "mimetype": "text/x-python",
   "name": "python",
   "nbconvert_exporter": "python",
   "pygments_lexer": "ipython3",
   "version": "3.6.4"
  }
 },
 "nbformat": 4,
 "nbformat_minor": 2
}
